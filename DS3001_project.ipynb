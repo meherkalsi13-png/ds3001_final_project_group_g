{
  "nbformat": 4,
  "nbformat_minor": 0,
  "metadata": {
    "colab": {
      "provenance": [],
      "authorship_tag": "ABX9TyOsUcT20R1Uv8ws9ZvCAw+I",
      "include_colab_link": true
    },
    "kernelspec": {
      "name": "python3",
      "display_name": "Python 3"
    },
    "language_info": {
      "name": "python"
    }
  },
  "cells": [
    {
      "cell_type": "markdown",
      "metadata": {
        "id": "view-in-github",
        "colab_type": "text"
      },
      "source": [
        "<a href=\"https://colab.research.google.com/github/meherkalsi13-png/ds3001_final_project_group_g/blob/main/DS3001_project.ipynb\" target=\"_parent\"><img src=\"https://colab.research.google.com/assets/colab-badge.svg\" alt=\"Open In Colab\"/></a>"
      ]
    },
    {
      "cell_type": "code",
      "execution_count": 5,
      "metadata": {
        "colab": {
          "base_uri": "https://localhost:8080/"
        },
        "id": "vJ-fN5WoTUyv",
        "outputId": "9e0bbfc4-5312-417c-dbbb-b12e6d228647"
      },
      "outputs": [
        {
          "output_type": "stream",
          "name": "stdout",
          "text": [
            "{'uci_id': 857, 'name': 'Risk Factor Prediction of Chronic Kidney Disease', 'repository_url': 'https://archive.ics.uci.edu/dataset/857/risk+factor+prediction+of+chronic+kidney+disease', 'data_url': 'https://archive.ics.uci.edu/static/public/857/data.csv', 'abstract': 'Chronic kidney disease (CKD) is an increasing medical issue that declines the productivity of renal capacities and subsequently damages the kidneys.', 'area': 'Health and Medicine', 'tasks': ['Classification', 'Regression'], 'characteristics': ['Multivariate'], 'num_instances': 200, 'num_features': 28, 'feature_types': ['Real'], 'demographics': [], 'target_col': ['class'], 'index_col': None, 'has_missing_values': 'no', 'missing_values_symbol': None, 'year_of_dataset_creation': 2020, 'last_updated': 'Fri Mar 08 2024', 'dataset_doi': '10.24432/C5WP64', 'creators': ['Md. Ashiqul Islam', 'Shamima Akter'], 'intro_paper': {'ID': 268, 'type': 'NATIVE', 'title': 'Risk Factor Prediction of Chronic Kidney Disease based on Machine Learning Algorithms', 'authors': 'M. Islam, S. Akter, M. Hossen, Sadia Ahmed Keya, Sadia Afrin Tisha, Shahed Hossain', 'venue': 'International Conferences on Information Science and System', 'year': 2020, 'journal': None, 'DOI': None, 'URL': 'https://www.semanticscholar.org/paper/a4b90dd7b9dfaffa9eff1efc6555bbce62a963d7', 'sha': None, 'corpus': None, 'arxiv': None, 'mag': None, 'acl': None, 'pmid': None, 'pmcid': None}, 'additional_info': {'summary': 'This dataset is real Bangladeshi patient data. The dataset is collected from Enam Medical College, Savar, Dhaka, Bangladesh.\\n', 'purpose': None, 'funded_by': None, 'instances_represent': None, 'recommended_data_splits': None, 'sensitive_data': None, 'preprocessing_description': 'This dataset is not pre-processed, if you want to apply a Machine learning Algorithm at first you have to need to pre-process the data', 'variable_info': '1. bp(Diastolic)\\n2. bp limit\\n3. sg\\n4. al\\n5. class\\n6. rbc\\n7. su\\n8. pc\\n9. pcc\\n10. ba\\n11.bgr\\n12. bu\\n13. sod\\n14. sc\\n15. pot\\n16. hemo\\n17. pcv\\n18. rbcc\\n19. wbcc\\n20. htn\\n21. dm\\n22. cad\\n23. appet\\n24. pe\\n25. ane\\n26. grf\\n27. stage\\n28. affected\\n29. age', 'citation': \"M. A. Islam, S. Akter, M. S. Hossen, S. A. Keya, S. A. Tisha and S. Hossain, 'Risk Factor Prediction of Chronic Kidney Disease based on Machine Learning Algorithms,' 2020 3rd International Conference on Intelligent Sustainable Systems (ICISS), Thoothukudi, India, 2020, pp. 952-957, doi: 10.1109/ICISS49785.2020.9315878.\"}}\n",
            "              name     role         type demographic description units  \\\n",
            "0   bp (Diastolic)  Feature      Integer        None        None  None   \n",
            "1         bp limit  Feature      Integer        None        None  None   \n",
            "2               sg  Feature  Categorical        None        None  None   \n",
            "3               al  Feature  Categorical        None        None  None   \n",
            "4            class   Target       Binary        None        None  None   \n",
            "5              rbc  Feature      Integer        None        None  None   \n",
            "6               su  Feature  Categorical        None        None  None   \n",
            "7               pc  Feature      Integer        None        None  None   \n",
            "8              pcc  Feature      Integer        None        None  None   \n",
            "9               ba  Feature      Integer        None        None  None   \n",
            "10             bgr  Feature  Categorical        None        None  None   \n",
            "11              bu  Feature  Categorical        None        None  None   \n",
            "12             sod  Feature  Categorical        None        None  None   \n",
            "13              sc  Feature  Categorical        None        None  None   \n",
            "14             pot  Feature  Categorical        None        None  None   \n",
            "15            hemo  Feature  Categorical        None        None  None   \n",
            "16             pcv  Feature  Categorical        None        None  None   \n",
            "17            rbcc  Feature  Categorical        None        None  None   \n",
            "18            wbcc  Feature  Categorical        None        None  None   \n",
            "19             htn  Feature      Integer        None        None  None   \n",
            "20              dm  Feature      Integer        None        None  None   \n",
            "21             cad  Feature      Integer        None        None  None   \n",
            "22           appet  Feature      Integer        None        None  None   \n",
            "23              pe  Feature      Integer        None        None  None   \n",
            "24             ane  Feature      Integer        None        None  None   \n",
            "25             grf  Feature  Categorical        None        None  None   \n",
            "26           stage  Feature  Categorical        None        None  None   \n",
            "27        affected  Feature      Integer        None        None  None   \n",
            "28             age  Feature  Categorical        None        None  None   \n",
            "\n",
            "   missing_values  \n",
            "0              no  \n",
            "1              no  \n",
            "2              no  \n",
            "3              no  \n",
            "4              no  \n",
            "5              no  \n",
            "6              no  \n",
            "7              no  \n",
            "8              no  \n",
            "9              no  \n",
            "10             no  \n",
            "11             no  \n",
            "12             no  \n",
            "13             no  \n",
            "14             no  \n",
            "15             no  \n",
            "16             no  \n",
            "17             no  \n",
            "18             no  \n",
            "19             no  \n",
            "20             no  \n",
            "21             no  \n",
            "22             no  \n",
            "23             no  \n",
            "24             no  \n",
            "25             no  \n",
            "26             no  \n",
            "27             no  \n",
            "28             no  \n"
          ]
        }
      ],
      "source": [
        "from ucimlrepo import fetch_ucirepo\n",
        "\n",
        "# fetch dataset\n",
        "risk_factor_prediction_of_chronic_kidney_disease = fetch_ucirepo(id=857)\n",
        "\n",
        "# data (as pandas dataframes)\n",
        "X = risk_factor_prediction_of_chronic_kidney_disease.data.features\n",
        "y = risk_factor_prediction_of_chronic_kidney_disease.data.targets\n",
        "\n",
        "# metadata\n",
        "print(risk_factor_prediction_of_chronic_kidney_disease.metadata)\n",
        "\n",
        "# variable information\n",
        "print(risk_factor_prediction_of_chronic_kidney_disease.variables)"
      ]
    },
    {
      "cell_type": "code",
      "metadata": {
        "colab": {
          "base_uri": "https://localhost:8080/"
        },
        "id": "826388ca",
        "outputId": "bf7da4a2-9d4d-40f3-e907-ec5da4b20fa3"
      },
      "source": [
        "%pip install ucimlrepo"
      ],
      "execution_count": 4,
      "outputs": [
        {
          "output_type": "stream",
          "name": "stdout",
          "text": [
            "Collecting ucimlrepo\n",
            "  Downloading ucimlrepo-0.0.7-py3-none-any.whl.metadata (5.5 kB)\n",
            "Requirement already satisfied: pandas>=1.0.0 in /usr/local/lib/python3.12/dist-packages (from ucimlrepo) (2.2.2)\n",
            "Requirement already satisfied: certifi>=2020.12.5 in /usr/local/lib/python3.12/dist-packages (from ucimlrepo) (2025.8.3)\n",
            "Requirement already satisfied: numpy>=1.26.0 in /usr/local/lib/python3.12/dist-packages (from pandas>=1.0.0->ucimlrepo) (2.0.2)\n",
            "Requirement already satisfied: python-dateutil>=2.8.2 in /usr/local/lib/python3.12/dist-packages (from pandas>=1.0.0->ucimlrepo) (2.9.0.post0)\n",
            "Requirement already satisfied: pytz>=2020.1 in /usr/local/lib/python3.12/dist-packages (from pandas>=1.0.0->ucimlrepo) (2025.2)\n",
            "Requirement already satisfied: tzdata>=2022.7 in /usr/local/lib/python3.12/dist-packages (from pandas>=1.0.0->ucimlrepo) (2025.2)\n",
            "Requirement already satisfied: six>=1.5 in /usr/local/lib/python3.12/dist-packages (from python-dateutil>=2.8.2->pandas>=1.0.0->ucimlrepo) (1.17.0)\n",
            "Downloading ucimlrepo-0.0.7-py3-none-any.whl (8.0 kB)\n",
            "Installing collected packages: ucimlrepo\n",
            "Successfully installed ucimlrepo-0.0.7\n"
          ]
        }
      ]
    }
  ]
}